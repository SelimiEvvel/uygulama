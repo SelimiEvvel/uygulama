{
 "cells": [
  {
   "cell_type": "markdown",
   "id": "078ba29c-42a4-4ad5-9ffc-df1da91d27f2",
   "metadata": {},
   "source": [
    "# <p style=\"background-color:green;font-family:newtimeroman;font-size:200%;color:white;text-align:center;border-radius:20px 20px;\"><b>Udemy Courses Project</b></p>\n",
    "![](https://www.techproeducation.com/logo/headerlogo.svg)\n",
    "\n",
    "<b>Yeniliklerden ilk siz haberdar olmak istiyorsanız lütfen bizi takip etmeyi unutmayın </b>[YouTube](https://www.youtube.com/c/techproeducation) | [Instagram](https://www.instagram.com/techproeducation) | [Facebook](https://www.facebook.com/techproeducation) | [Telegram](https://t.me/joinchat/HH2qRvA-ulh4OWbb) | [Whatsapp](https://api.whatsapp.com/send/?phone=%2B15853042959&text&type=phone_number&app_absent=0) | [LinkedIn](https://www.linkedin.com/company/techproeducation/mycompany/) |"
   ]
  },
  {
   "cell_type": "markdown",
   "id": "162e2040",
   "metadata": {},
   "source": [
    "# Udemy Courses Project\n",
    "\n",
    "This notebook provides a structured approach to handling data cleaning, exploratory data analysis (EDA), and data visualization tasks using the **Udemy Courses** dataset.\n",
    "\n",
    "Each step will cover various aspects of cleaning, analyzing, and visualizing the dataset."
   ]
  },
  {
   "cell_type": "markdown",
   "id": "8d6aacf0",
   "metadata": {},
   "source": [
    "## Step 1: Loading the Dataset and Initial Exploration"
   ]
  },
  {
   "cell_type": "code",
   "execution_count": 1,
   "id": "2ec71a73",
   "metadata": {},
   "outputs": [],
   "source": [
    "# Load the dataset \n",
    "\n",
    "# Display first few rows\n",
    "# Check the structure of the dataset.\n",
    "# Inspect the data types and missing values using df.info()\n",
    "# Get basic statistics for numerical columns with df.describe()\n",
    "# and more.."
   ]
  },
  {
   "cell_type": "code",
   "execution_count": 1,
   "id": "6d4ab02b",
   "metadata": {},
   "outputs": [],
   "source": [
    "import numpy as np\n",
    "import pandas as pd\n",
    "import matplotlib.pyplot as plt\n",
    "import seaborn as sns\n",
    " \n",
    "import missingno as msno\n",
    "import plotly.express as px"
   ]
  },
  {
   "cell_type": "code",
   "execution_count": 2,
   "id": "54c10ca2",
   "metadata": {},
   "outputs": [],
   "source": [
    "df0 = pd.read_csv(\"udemy_courses_dataset.csv\")"
   ]
  },
  {
   "cell_type": "code",
   "execution_count": 3,
   "metadata": {},
   "outputs": [],
   "source": [
    "df=df0.copy()"
   ]
  },
  {
   "cell_type": "code",
   "execution_count": 4,
   "metadata": {},
   "outputs": [
    {
     "name": "stdout",
     "output_type": "stream",
     "text": [
      "<class 'pandas.core.frame.DataFrame'>\n",
      "RangeIndex: 3678 entries, 0 to 3677\n",
      "Data columns (total 12 columns):\n",
      " #   Column               Non-Null Count  Dtype  \n",
      "---  ------               --------------  -----  \n",
      " 0   course_id            3678 non-null   int64  \n",
      " 1   course_title         3678 non-null   object \n",
      " 2   url                  3678 non-null   object \n",
      " 3   is_paid              3678 non-null   bool   \n",
      " 4   price                3678 non-null   int64  \n",
      " 5   num_subscribers      3678 non-null   int64  \n",
      " 6   num_reviews          3678 non-null   int64  \n",
      " 7   num_lectures         3678 non-null   int64  \n",
      " 8   level                3678 non-null   object \n",
      " 9   content_duration     3678 non-null   float64\n",
      " 10  published_timestamp  3678 non-null   object \n",
      " 11  subject              3678 non-null   object \n",
      "dtypes: bool(1), float64(1), int64(5), object(5)\n",
      "memory usage: 319.8+ KB\n"
     ]
    }
   ],
   "source": [
    "df.info()"
   ]
  },
  {
   "cell_type": "code",
   "execution_count": 26,
   "id": "f39da740",
   "metadata": {},
   "outputs": [
    {
     "data": {
      "text/html": [
       "<div>\n",
       "<style scoped>\n",
       "    .dataframe tbody tr th:only-of-type {\n",
       "        vertical-align: middle;\n",
       "    }\n",
       "\n",
       "    .dataframe tbody tr th {\n",
       "        vertical-align: top;\n",
       "    }\n",
       "\n",
       "    .dataframe thead th {\n",
       "        text-align: right;\n",
       "    }\n",
       "</style>\n",
       "<table border=\"1\" class=\"dataframe\">\n",
       "  <thead>\n",
       "    <tr style=\"text-align: right;\">\n",
       "      <th></th>\n",
       "      <th>course_id</th>\n",
       "      <th>course_title</th>\n",
       "      <th>url</th>\n",
       "      <th>is_paid</th>\n",
       "      <th>price</th>\n",
       "      <th>num_subscribers</th>\n",
       "      <th>num_reviews</th>\n",
       "      <th>num_lectures</th>\n",
       "      <th>level</th>\n",
       "      <th>content_duration</th>\n",
       "      <th>published_timestamp</th>\n",
       "      <th>subject</th>\n",
       "    </tr>\n",
       "  </thead>\n",
       "  <tbody>\n",
       "    <tr>\n",
       "      <th>2641</th>\n",
       "      <td>812588</td>\n",
       "      <td>The Complete jQuery Course: From Beginner To A...</td>\n",
       "      <td>https://www.udemy.com/jquery-tutorial/</td>\n",
       "      <td>True</td>\n",
       "      <td>195</td>\n",
       "      <td>6636</td>\n",
       "      <td>302</td>\n",
       "      <td>50</td>\n",
       "      <td>All Levels</td>\n",
       "      <td>6.000000</td>\n",
       "      <td>2016-05-26T19:10:29Z</td>\n",
       "      <td>Web Development</td>\n",
       "    </tr>\n",
       "    <tr>\n",
       "      <th>355</th>\n",
       "      <td>828254</td>\n",
       "      <td>Budgeting Hacks to Build Wealth!</td>\n",
       "      <td>https://www.udemy.com/budgeting-wealth/</td>\n",
       "      <td>False</td>\n",
       "      <td>0</td>\n",
       "      <td>4931</td>\n",
       "      <td>154</td>\n",
       "      <td>7</td>\n",
       "      <td>Beginner Level</td>\n",
       "      <td>0.533333</td>\n",
       "      <td>2016-05-31T15:10:45Z</td>\n",
       "      <td>Business Finance</td>\n",
       "    </tr>\n",
       "    <tr>\n",
       "      <th>1791</th>\n",
       "      <td>441106</td>\n",
       "      <td>Photoshop tips and tricks, how to change clothes</td>\n",
       "      <td>https://www.udemy.com/changing-clothes-with-ph...</td>\n",
       "      <td>True</td>\n",
       "      <td>20</td>\n",
       "      <td>837</td>\n",
       "      <td>4</td>\n",
       "      <td>26</td>\n",
       "      <td>All Levels</td>\n",
       "      <td>2.000000</td>\n",
       "      <td>2015-03-16T18:36:17Z</td>\n",
       "      <td>Graphic Design</td>\n",
       "    </tr>\n",
       "    <tr>\n",
       "      <th>3305</th>\n",
       "      <td>1079624</td>\n",
       "      <td>HTML and CSS for Absolute Beginners</td>\n",
       "      <td>https://www.udemy.com/html-and-css-for-absolut...</td>\n",
       "      <td>False</td>\n",
       "      <td>0</td>\n",
       "      <td>4410</td>\n",
       "      <td>52</td>\n",
       "      <td>26</td>\n",
       "      <td>All Levels</td>\n",
       "      <td>3.000000</td>\n",
       "      <td>2017-01-20T17:02:27Z</td>\n",
       "      <td>Web Development</td>\n",
       "    </tr>\n",
       "    <tr>\n",
       "      <th>3174</th>\n",
       "      <td>1053406</td>\n",
       "      <td>Java Web Services Part 2</td>\n",
       "      <td>https://www.udemy.com/javawebservicespart2/</td>\n",
       "      <td>True</td>\n",
       "      <td>20</td>\n",
       "      <td>959</td>\n",
       "      <td>51</td>\n",
       "      <td>74</td>\n",
       "      <td>Intermediate Level</td>\n",
       "      <td>3.000000</td>\n",
       "      <td>2017-01-12T03:10:56Z</td>\n",
       "      <td>Web Development</td>\n",
       "    </tr>\n",
       "  </tbody>\n",
       "</table>\n",
       "</div>"
      ],
      "text/plain": [
       "      course_id                                       course_title  \\\n",
       "2641     812588  The Complete jQuery Course: From Beginner To A...   \n",
       "355      828254                   Budgeting Hacks to Build Wealth!   \n",
       "1791     441106   Photoshop tips and tricks, how to change clothes   \n",
       "3305    1079624                HTML and CSS for Absolute Beginners   \n",
       "3174    1053406                           Java Web Services Part 2   \n",
       "\n",
       "                                                    url  is_paid  price  \\\n",
       "2641             https://www.udemy.com/jquery-tutorial/     True    195   \n",
       "355             https://www.udemy.com/budgeting-wealth/    False      0   \n",
       "1791  https://www.udemy.com/changing-clothes-with-ph...     True     20   \n",
       "3305  https://www.udemy.com/html-and-css-for-absolut...    False      0   \n",
       "3174        https://www.udemy.com/javawebservicespart2/     True     20   \n",
       "\n",
       "      num_subscribers  num_reviews  num_lectures               level  \\\n",
       "2641             6636          302            50          All Levels   \n",
       "355              4931          154             7      Beginner Level   \n",
       "1791              837            4            26          All Levels   \n",
       "3305             4410           52            26          All Levels   \n",
       "3174              959           51            74  Intermediate Level   \n",
       "\n",
       "      content_duration   published_timestamp           subject  \n",
       "2641          6.000000  2016-05-26T19:10:29Z   Web Development  \n",
       "355           0.533333  2016-05-31T15:10:45Z  Business Finance  \n",
       "1791          2.000000  2015-03-16T18:36:17Z    Graphic Design  \n",
       "3305          3.000000  2017-01-20T17:02:27Z   Web Development  \n",
       "3174          3.000000  2017-01-12T03:10:56Z   Web Development  "
      ]
     },
     "execution_count": 26,
     "metadata": {},
     "output_type": "execute_result"
    }
   ],
   "source": [
    "df.sample(5)"
   ]
  },
  {
   "cell_type": "code",
   "execution_count": 6,
   "id": "1c059379",
   "metadata": {},
   "outputs": [
    {
     "data": {
      "text/html": [
       "<div>\n",
       "<style scoped>\n",
       "    .dataframe tbody tr th:only-of-type {\n",
       "        vertical-align: middle;\n",
       "    }\n",
       "\n",
       "    .dataframe tbody tr th {\n",
       "        vertical-align: top;\n",
       "    }\n",
       "\n",
       "    .dataframe thead th {\n",
       "        text-align: right;\n",
       "    }\n",
       "</style>\n",
       "<table border=\"1\" class=\"dataframe\">\n",
       "  <thead>\n",
       "    <tr style=\"text-align: right;\">\n",
       "      <th></th>\n",
       "      <th>count</th>\n",
       "      <th>mean</th>\n",
       "      <th>std</th>\n",
       "      <th>min</th>\n",
       "      <th>25%</th>\n",
       "      <th>50%</th>\n",
       "      <th>75%</th>\n",
       "      <th>max</th>\n",
       "    </tr>\n",
       "  </thead>\n",
       "  <tbody>\n",
       "    <tr>\n",
       "      <th>course_id</th>\n",
       "      <td>3678.0</td>\n",
       "      <td>675971.963295</td>\n",
       "      <td>343273.156040</td>\n",
       "      <td>8324.0</td>\n",
       "      <td>407692.5</td>\n",
       "      <td>687917.0</td>\n",
       "      <td>961355.50</td>\n",
       "      <td>1282064.0</td>\n",
       "    </tr>\n",
       "    <tr>\n",
       "      <th>price</th>\n",
       "      <td>3678.0</td>\n",
       "      <td>66.049483</td>\n",
       "      <td>61.005755</td>\n",
       "      <td>0.0</td>\n",
       "      <td>20.0</td>\n",
       "      <td>45.0</td>\n",
       "      <td>95.00</td>\n",
       "      <td>200.0</td>\n",
       "    </tr>\n",
       "    <tr>\n",
       "      <th>num_subscribers</th>\n",
       "      <td>3678.0</td>\n",
       "      <td>3197.150625</td>\n",
       "      <td>9504.117010</td>\n",
       "      <td>0.0</td>\n",
       "      <td>111.0</td>\n",
       "      <td>911.5</td>\n",
       "      <td>2546.00</td>\n",
       "      <td>268923.0</td>\n",
       "    </tr>\n",
       "    <tr>\n",
       "      <th>num_reviews</th>\n",
       "      <td>3678.0</td>\n",
       "      <td>156.259108</td>\n",
       "      <td>935.452044</td>\n",
       "      <td>0.0</td>\n",
       "      <td>4.0</td>\n",
       "      <td>18.0</td>\n",
       "      <td>67.00</td>\n",
       "      <td>27445.0</td>\n",
       "    </tr>\n",
       "    <tr>\n",
       "      <th>num_lectures</th>\n",
       "      <td>3678.0</td>\n",
       "      <td>40.108755</td>\n",
       "      <td>50.383346</td>\n",
       "      <td>0.0</td>\n",
       "      <td>15.0</td>\n",
       "      <td>25.0</td>\n",
       "      <td>45.75</td>\n",
       "      <td>779.0</td>\n",
       "    </tr>\n",
       "    <tr>\n",
       "      <th>content_duration</th>\n",
       "      <td>3678.0</td>\n",
       "      <td>4.094517</td>\n",
       "      <td>6.053840</td>\n",
       "      <td>0.0</td>\n",
       "      <td>1.0</td>\n",
       "      <td>2.0</td>\n",
       "      <td>4.50</td>\n",
       "      <td>78.5</td>\n",
       "    </tr>\n",
       "  </tbody>\n",
       "</table>\n",
       "</div>"
      ],
      "text/plain": [
       "                   count           mean            std     min       25%  \\\n",
       "course_id         3678.0  675971.963295  343273.156040  8324.0  407692.5   \n",
       "price             3678.0      66.049483      61.005755     0.0      20.0   \n",
       "num_subscribers   3678.0    3197.150625    9504.117010     0.0     111.0   \n",
       "num_reviews       3678.0     156.259108     935.452044     0.0       4.0   \n",
       "num_lectures      3678.0      40.108755      50.383346     0.0      15.0   \n",
       "content_duration  3678.0       4.094517       6.053840     0.0       1.0   \n",
       "\n",
       "                       50%        75%        max  \n",
       "course_id         687917.0  961355.50  1282064.0  \n",
       "price                 45.0      95.00      200.0  \n",
       "num_subscribers      911.5    2546.00   268923.0  \n",
       "num_reviews           18.0      67.00    27445.0  \n",
       "num_lectures          25.0      45.75      779.0  \n",
       "content_duration       2.0       4.50       78.5  "
      ]
     },
     "execution_count": 6,
     "metadata": {},
     "output_type": "execute_result"
    }
   ],
   "source": [
    "df.describe().T"
   ]
  },
  {
   "cell_type": "code",
   "execution_count": null,
   "id": "23d5a52d",
   "metadata": {},
   "outputs": [],
   "source": [
    "## IQR for num_subscribers= 2546-111=2435\n",
    "#1,5*IQR = 3652.5, we add this to 3rd quartile it makes 2546+ 3652 = 6198.5 so we may think values more than 6200 as outlier!\n",
    "#IQR methodology seems to costing us to loose a lot of information so we will remove only less than 1 percent of rows."
   ]
  },
  {
   "cell_type": "code",
   "execution_count": null,
   "id": "3dcca012",
   "metadata": {},
   "outputs": [],
   "source": []
  },
  {
   "cell_type": "markdown",
   "id": "980d3ecb",
   "metadata": {},
   "source": [
    "## Step 2: Analyzing and Handling Outliers"
   ]
  },
  {
   "cell_type": "code",
   "execution_count": null,
   "id": "77f3b907",
   "metadata": {},
   "outputs": [],
   "source": [
    "# Boxplot for outlier detection\n",
    "\n",
    "# Example: Removing outliers\n",
    "# df = df[df['UnitPrice'] < df['UnitPrice'].quantile(0.99)]"
   ]
  },
  {
   "cell_type": "code",
   "execution_count": 10,
   "id": "012d8904",
   "metadata": {},
   "outputs": [
    {
     "data": {
      "text/plain": [
       "<Axes: xlabel='price'>"
      ]
     },
     "execution_count": 10,
     "metadata": {},
     "output_type": "execute_result"
    },
    {
     "data": {
      "image/png": "[encoded data removed]",
      "text/plain": [
       "<Figure size 640x480 with 1 Axes>"
      ]
     },
     "metadata": {},
     "output_type": "display_data"
    }
   ],
   "source": [
    "sns.boxplot(df, x=df.price)"
   ]
  },
  {
   "cell_type": "markdown",
   "id": "d3a2d126",
   "metadata": {},
   "source": [
    "##### <font color=\"blue\">  Price column has no outlier so we leave it as it is"
   ]
  },
  {
   "cell_type": "markdown",
   "id": "20cf7a0c",
   "metadata": {},
   "source": [
    "### Analysis of number of subscribers"
   ]
  },
  {
   "cell_type": "code",
   "execution_count": 11,
   "id": "66472c1d",
   "metadata": {},
   "outputs": [
    {
     "data": {
      "text/plain": [
       "<Axes: xlabel='num_subscribers'>"
      ]
     },
     "execution_count": 11,
     "metadata": {},
     "output_type": "execute_result"
    },
    {
     "data": {
      "image/png": "[encoded data removed]",
      "text/plain": [
       "<Figure size 640x480 with 1 Axes>"
      ]
     },
     "metadata": {},
     "output_type": "display_data"
    }
   ],
   "source": [
    "sns.boxplot(df, x=df.num_subscribers)"
   ]
  },
  {
   "cell_type": "code",
   "execution_count": 5,
   "id": "9744cb10",
   "metadata": {},
   "outputs": [],
   "source": [
    "df = df[df['num_subscribers'] < df['num_subscribers'].quantile(0.995)]"
   ]
  },
  {
   "cell_type": "code",
   "execution_count": 6,
   "id": "84b6f2c9",
   "metadata": {},
   "outputs": [
    {
     "data": {
      "text/html": [
       "<div>\n",
       "<style scoped>\n",
       "    .dataframe tbody tr th:only-of-type {\n",
       "        vertical-align: middle;\n",
       "    }\n",
       "\n",
       "    .dataframe tbody tr th {\n",
       "        vertical-align: top;\n",
       "    }\n",
       "\n",
       "    .dataframe thead th {\n",
       "        text-align: right;\n",
       "    }\n",
       "</style>\n",
       "<table border=\"1\" class=\"dataframe\">\n",
       "  <thead>\n",
       "    <tr style=\"text-align: right;\">\n",
       "      <th></th>\n",
       "      <th>count</th>\n",
       "      <th>mean</th>\n",
       "      <th>std</th>\n",
       "      <th>min</th>\n",
       "      <th>25%</th>\n",
       "      <th>50%</th>\n",
       "      <th>75%</th>\n",
       "      <th>max</th>\n",
       "    </tr>\n",
       "  </thead>\n",
       "  <tbody>\n",
       "    <tr>\n",
       "      <th>course_id</th>\n",
       "      <td>3659.0</td>\n",
       "      <td>678187.496310</td>\n",
       "      <td>342329.565679</td>\n",
       "      <td>8324.0</td>\n",
       "      <td>410775.0</td>\n",
       "      <td>690788.0</td>\n",
       "      <td>962545.0</td>\n",
       "      <td>1282064.0</td>\n",
       "    </tr>\n",
       "    <tr>\n",
       "      <th>price</th>\n",
       "      <td>3659.0</td>\n",
       "      <td>66.087729</td>\n",
       "      <td>60.855642</td>\n",
       "      <td>0.0</td>\n",
       "      <td>20.0</td>\n",
       "      <td>45.0</td>\n",
       "      <td>95.0</td>\n",
       "      <td>200.0</td>\n",
       "    </tr>\n",
       "    <tr>\n",
       "      <th>num_subscribers</th>\n",
       "      <td>3659.0</td>\n",
       "      <td>2705.626674</td>\n",
       "      <td>5684.292767</td>\n",
       "      <td>0.0</td>\n",
       "      <td>108.5</td>\n",
       "      <td>896.0</td>\n",
       "      <td>2489.5</td>\n",
       "      <td>59361.0</td>\n",
       "    </tr>\n",
       "    <tr>\n",
       "      <th>num_reviews</th>\n",
       "      <td>3659.0</td>\n",
       "      <td>117.753485</td>\n",
       "      <td>526.655639</td>\n",
       "      <td>0.0</td>\n",
       "      <td>4.0</td>\n",
       "      <td>17.0</td>\n",
       "      <td>64.0</td>\n",
       "      <td>15117.0</td>\n",
       "    </tr>\n",
       "    <tr>\n",
       "      <th>num_lectures</th>\n",
       "      <td>3659.0</td>\n",
       "      <td>39.757037</td>\n",
       "      <td>49.471165</td>\n",
       "      <td>0.0</td>\n",
       "      <td>15.0</td>\n",
       "      <td>25.0</td>\n",
       "      <td>45.0</td>\n",
       "      <td>779.0</td>\n",
       "    </tr>\n",
       "    <tr>\n",
       "      <th>content_duration</th>\n",
       "      <td>3659.0</td>\n",
       "      <td>4.055516</td>\n",
       "      <td>5.980962</td>\n",
       "      <td>0.0</td>\n",
       "      <td>1.0</td>\n",
       "      <td>2.0</td>\n",
       "      <td>4.5</td>\n",
       "      <td>78.5</td>\n",
       "    </tr>\n",
       "  </tbody>\n",
       "</table>\n",
       "</div>"
      ],
      "text/plain": [
       "                   count           mean            std     min       25%  \\\n",
       "course_id         3659.0  678187.496310  342329.565679  8324.0  410775.0   \n",
       "price             3659.0      66.087729      60.855642     0.0      20.0   \n",
       "num_subscribers   3659.0    2705.626674    5684.292767     0.0     108.5   \n",
       "num_reviews       3659.0     117.753485     526.655639     0.0       4.0   \n",
       "num_lectures      3659.0      39.757037      49.471165     0.0      15.0   \n",
       "content_duration  3659.0       4.055516       5.980962     0.0       1.0   \n",
       "\n",
       "                       50%       75%        max  \n",
       "course_id         690788.0  962545.0  1282064.0  \n",
       "price                 45.0      95.0      200.0  \n",
       "num_subscribers      896.0    2489.5    59361.0  \n",
       "num_reviews           17.0      64.0    15117.0  \n",
       "num_lectures          25.0      45.0      779.0  \n",
       "content_duration       2.0       4.5       78.5  "
      ]
     },
     "execution_count": 6,
     "metadata": {},
     "output_type": "execute_result"
    }
   ],
   "source": [
    "df.describe().T"
   ]
  },
  {
   "cell_type": "code",
   "execution_count": 7,
   "id": "a1a1f5ac",
   "metadata": {},
   "outputs": [
    {
     "data": {
      "text/plain": [
       "<Axes: xlabel='num_subscribers'>"
      ]
     },
     "execution_count": 7,
     "metadata": {},
     "output_type": "execute_result"
    },
    {
     "data": {
      "image/png": "[encoded data removed]",
      "text/plain": [
       "<Figure size 640x480 with 1 Axes>"
      ]
     },
     "metadata": {},
     "output_type": "display_data"
    }
   ],
   "source": [
    "# boxplot after removal of outliers\n",
    "sns.boxplot(df, x=df.num_subscribers)"
   ]
  },
  {
   "cell_type": "markdown",
   "id": "85bb26df",
   "metadata": {},
   "source": [
    "### analysis of number of reviews"
   ]
  },
  {
   "cell_type": "code",
   "execution_count": 8,
   "id": "4c486884",
   "metadata": {},
   "outputs": [
    {
     "data": {
      "text/plain": [
       "<Axes: xlabel='num_reviews'>"
      ]
     },
     "execution_count": 8,
     "metadata": {},
     "output_type": "execute_result"
    },
    {
     "data": {
      "image/png": "[encoded data removed]",
      "text/plain": [
       "<Figure size 640x480 with 1 Axes>"
      ]
     },
     "metadata": {},
     "output_type": "display_data"
    }
   ],
   "source": [
    "sns.boxplot(df, x=df.num_reviews)"
   ]
  },
  {
   "cell_type": "code",
   "execution_count": 9,
   "id": "bd2bf2d1",
   "metadata": {},
   "outputs": [],
   "source": [
    "df = df[df['num_reviews'] < df['num_reviews'].quantile(0.998)]"
   ]
  },
  {
   "cell_type": "code",
   "execution_count": 10,
   "id": "c4de2487",
   "metadata": {},
   "outputs": [
    {
     "data": {
      "text/html": [
       "<div>\n",
       "<style scoped>\n",
       "    .dataframe tbody tr th:only-of-type {\n",
       "        vertical-align: middle;\n",
       "    }\n",
       "\n",
       "    .dataframe tbody tr th {\n",
       "        vertical-align: top;\n",
       "    }\n",
       "\n",
       "    .dataframe thead th {\n",
       "        text-align: right;\n",
       "    }\n",
       "</style>\n",
       "<table border=\"1\" class=\"dataframe\">\n",
       "  <thead>\n",
       "    <tr style=\"text-align: right;\">\n",
       "      <th></th>\n",
       "      <th>count</th>\n",
       "      <th>mean</th>\n",
       "      <th>std</th>\n",
       "      <th>min</th>\n",
       "      <th>25%</th>\n",
       "      <th>50%</th>\n",
       "      <th>75%</th>\n",
       "      <th>max</th>\n",
       "    </tr>\n",
       "  </thead>\n",
       "  <tbody>\n",
       "    <tr>\n",
       "      <th>course_id</th>\n",
       "      <td>3651.0</td>\n",
       "      <td>678270.636812</td>\n",
       "      <td>342553.935089</td>\n",
       "      <td>8324.0</td>\n",
       "      <td>410386.0</td>\n",
       "      <td>690546.0</td>\n",
       "      <td>963236.0</td>\n",
       "      <td>1282064.0</td>\n",
       "    </tr>\n",
       "    <tr>\n",
       "      <th>price</th>\n",
       "      <td>3651.0</td>\n",
       "      <td>65.883320</td>\n",
       "      <td>60.696249</td>\n",
       "      <td>0.0</td>\n",
       "      <td>20.0</td>\n",
       "      <td>45.0</td>\n",
       "      <td>95.0</td>\n",
       "      <td>200.0</td>\n",
       "    </tr>\n",
       "    <tr>\n",
       "      <th>num_subscribers</th>\n",
       "      <td>3651.0</td>\n",
       "      <td>2619.028211</td>\n",
       "      <td>5336.591964</td>\n",
       "      <td>0.0</td>\n",
       "      <td>107.5</td>\n",
       "      <td>886.0</td>\n",
       "      <td>2472.0</td>\n",
       "      <td>57422.0</td>\n",
       "    </tr>\n",
       "    <tr>\n",
       "      <th>num_reviews</th>\n",
       "      <td>3651.0</td>\n",
       "      <td>98.869077</td>\n",
       "      <td>300.560166</td>\n",
       "      <td>0.0</td>\n",
       "      <td>4.0</td>\n",
       "      <td>17.0</td>\n",
       "      <td>64.0</td>\n",
       "      <td>4434.0</td>\n",
       "    </tr>\n",
       "    <tr>\n",
       "      <th>num_lectures</th>\n",
       "      <td>3651.0</td>\n",
       "      <td>39.547795</td>\n",
       "      <td>49.152111</td>\n",
       "      <td>0.0</td>\n",
       "      <td>15.0</td>\n",
       "      <td>25.0</td>\n",
       "      <td>45.0</td>\n",
       "      <td>779.0</td>\n",
       "    </tr>\n",
       "    <tr>\n",
       "      <th>content_duration</th>\n",
       "      <td>3651.0</td>\n",
       "      <td>4.036465</td>\n",
       "      <td>5.966598</td>\n",
       "      <td>0.0</td>\n",
       "      <td>1.0</td>\n",
       "      <td>2.0</td>\n",
       "      <td>4.5</td>\n",
       "      <td>78.5</td>\n",
       "    </tr>\n",
       "  </tbody>\n",
       "</table>\n",
       "</div>"
      ],
      "text/plain": [
       "                   count           mean            std     min       25%  \\\n",
       "course_id         3651.0  678270.636812  342553.935089  8324.0  410386.0   \n",
       "price             3651.0      65.883320      60.696249     0.0      20.0   \n",
       "num_subscribers   3651.0    2619.028211    5336.591964     0.0     107.5   \n",
       "num_reviews       3651.0      98.869077     300.560166     0.0       4.0   \n",
       "num_lectures      3651.0      39.547795      49.152111     0.0      15.0   \n",
       "content_duration  3651.0       4.036465       5.966598     0.0       1.0   \n",
       "\n",
       "                       50%       75%        max  \n",
       "course_id         690546.0  963236.0  1282064.0  \n",
       "price                 45.0      95.0      200.0  \n",
       "num_subscribers      886.0    2472.0    57422.0  \n",
       "num_reviews           17.0      64.0     4434.0  \n",
       "num_lectures          25.0      45.0      779.0  \n",
       "content_duration       2.0       4.5       78.5  "
      ]
     },
     "execution_count": 10,
     "metadata": {},
     "output_type": "execute_result"
    }
   ],
   "source": [
    "df.describe().T"
   ]
  },
  {
   "cell_type": "code",
   "execution_count": 11,
   "id": "f748cc89",
   "metadata": {},
   "outputs": [
    {
     "data": {
      "text/plain": [
       "<Axes: xlabel='num_reviews'>"
      ]
     },
     "execution_count": 11,
     "metadata": {},
     "output_type": "execute_result"
    },
    {
     "data": {
      "image/png": "[encoded data removed]",
      "text/plain": [
       "<Figure size 640x480 with 1 Axes>"
      ]
     },
     "metadata": {},
     "output_type": "display_data"
    }
   ],
   "source": [
    "# boxplot after removal of outliers\n",
    "\n",
    "sns.boxplot(df, x=df.num_reviews)"
   ]
  },
  {
   "cell_type": "markdown",
   "id": "323906b8",
   "metadata": {},
   "source": [
    "### Analysis of number of lectures"
   ]
  },
  {
   "cell_type": "code",
   "execution_count": 13,
   "id": "73b9eb27",
   "metadata": {},
   "outputs": [
    {
     "data": {
      "text/plain": [
       "<Axes: xlabel='num_lectures'>"
      ]
     },
     "execution_count": 13,
     "metadata": {},
     "output_type": "execute_result"
    },
    {
     "data": {
      "image/png": "[encoded data removed]",
      "text/plain": [
       "<Figure size 640x480 with 1 Axes>"
      ]
     },
     "metadata": {},
     "output_type": "display_data"
    }
   ],
   "source": [
    "sns.boxplot(df, x=df.num_lectures)"
   ]
  },
  {
   "cell_type": "code",
   "execution_count": 36,
   "id": "4128ce90",
   "metadata": {},
   "outputs": [
    {
     "name": "stdout",
     "output_type": "stream",
     "text": [
      "      course_id                                       course_title  \\\n",
      "2707      79154  Back to School Web Development and Programming...   \n",
      "\n",
      "                                                    url  is_paid  price  \\\n",
      "2707  https://www.udemy.com/back-to-school-web-devel...     True    200   \n",
      "\n",
      "      num_subscribers  num_reviews  num_lectures           level  \\\n",
      "2707            18170          117           779  Beginner Level   \n",
      "\n",
      "      content_duration   published_timestamp          subject  \n",
      "2707              44.5  2013-08-19T14:53:00Z  Web Development  \n"
     ]
    }
   ],
   "source": [
    "row = df0.loc[df0['num_lectures'] == 779]\n",
    "print(row)\n"
   ]
  },
  {
   "cell_type": "code",
   "execution_count": 14,
   "id": "110d0295",
   "metadata": {},
   "outputs": [],
   "source": [
    "df = df[df['num_lectures'] < df['num_lectures'].quantile(0.997)]"
   ]
  },
  {
   "cell_type": "code",
   "execution_count": 15,
   "id": "1f656adf",
   "metadata": {},
   "outputs": [
    {
     "data": {
      "text/html": [
       "<div>\n",
       "<style scoped>\n",
       "    .dataframe tbody tr th:only-of-type {\n",
       "        vertical-align: middle;\n",
       "    }\n",
       "\n",
       "    .dataframe tbody tr th {\n",
       "        vertical-align: top;\n",
       "    }\n",
       "\n",
       "    .dataframe thead th {\n",
       "        text-align: right;\n",
       "    }\n",
       "</style>\n",
       "<table border=\"1\" class=\"dataframe\">\n",
       "  <thead>\n",
       "    <tr style=\"text-align: right;\">\n",
       "      <th></th>\n",
       "      <th>count</th>\n",
       "      <th>mean</th>\n",
       "      <th>std</th>\n",
       "      <th>min</th>\n",
       "      <th>25%</th>\n",
       "      <th>50%</th>\n",
       "      <th>75%</th>\n",
       "      <th>max</th>\n",
       "    </tr>\n",
       "  </thead>\n",
       "  <tbody>\n",
       "    <tr>\n",
       "      <th>course_id</th>\n",
       "      <td>3640.0</td>\n",
       "      <td>678644.674451</td>\n",
       "      <td>342627.910714</td>\n",
       "      <td>8324.0</td>\n",
       "      <td>410874.5</td>\n",
       "      <td>690853.0</td>\n",
       "      <td>963475.0</td>\n",
       "      <td>1282064.0</td>\n",
       "    </tr>\n",
       "    <tr>\n",
       "      <th>price</th>\n",
       "      <td>3640.0</td>\n",
       "      <td>65.557692</td>\n",
       "      <td>60.444374</td>\n",
       "      <td>0.0</td>\n",
       "      <td>20.0</td>\n",
       "      <td>45.0</td>\n",
       "      <td>95.0</td>\n",
       "      <td>200.0</td>\n",
       "    </tr>\n",
       "    <tr>\n",
       "      <th>num_subscribers</th>\n",
       "      <td>3640.0</td>\n",
       "      <td>2612.141209</td>\n",
       "      <td>5335.955791</td>\n",
       "      <td>0.0</td>\n",
       "      <td>106.0</td>\n",
       "      <td>882.5</td>\n",
       "      <td>2465.5</td>\n",
       "      <td>57422.0</td>\n",
       "    </tr>\n",
       "    <tr>\n",
       "      <th>num_reviews</th>\n",
       "      <td>3640.0</td>\n",
       "      <td>98.832418</td>\n",
       "      <td>300.954001</td>\n",
       "      <td>0.0</td>\n",
       "      <td>4.0</td>\n",
       "      <td>17.0</td>\n",
       "      <td>64.0</td>\n",
       "      <td>4434.0</td>\n",
       "    </tr>\n",
       "    <tr>\n",
       "      <th>num_lectures</th>\n",
       "      <td>3640.0</td>\n",
       "      <td>38.140659</td>\n",
       "      <td>41.689782</td>\n",
       "      <td>0.0</td>\n",
       "      <td>15.0</td>\n",
       "      <td>25.0</td>\n",
       "      <td>45.0</td>\n",
       "      <td>395.0</td>\n",
       "    </tr>\n",
       "    <tr>\n",
       "      <th>content_duration</th>\n",
       "      <td>3640.0</td>\n",
       "      <td>3.908553</td>\n",
       "      <td>5.441916</td>\n",
       "      <td>0.0</td>\n",
       "      <td>1.0</td>\n",
       "      <td>2.0</td>\n",
       "      <td>4.5</td>\n",
       "      <td>78.5</td>\n",
       "    </tr>\n",
       "  </tbody>\n",
       "</table>\n",
       "</div>"
      ],
      "text/plain": [
       "                   count           mean            std     min       25%  \\\n",
       "course_id         3640.0  678644.674451  342627.910714  8324.0  410874.5   \n",
       "price             3640.0      65.557692      60.444374     0.0      20.0   \n",
       "num_subscribers   3640.0    2612.141209    5335.955791     0.0     106.0   \n",
       "num_reviews       3640.0      98.832418     300.954001     0.0       4.0   \n",
       "num_lectures      3640.0      38.140659      41.689782     0.0      15.0   \n",
       "content_duration  3640.0       3.908553       5.441916     0.0       1.0   \n",
       "\n",
       "                       50%       75%        max  \n",
       "course_id         690853.0  963475.0  1282064.0  \n",
       "price                 45.0      95.0      200.0  \n",
       "num_subscribers      882.5    2465.5    57422.0  \n",
       "num_reviews           17.0      64.0     4434.0  \n",
       "num_lectures          25.0      45.0      395.0  \n",
       "content_duration       2.0       4.5       78.5  "
      ]
     },
     "execution_count": 15,
     "metadata": {},
     "output_type": "execute_result"
    }
   ],
   "source": [
    "\n",
    "df.describe().T \n"
   ]
  },
  {
   "cell_type": "code",
   "execution_count": 16,
   "id": "0a1283ac",
   "metadata": {},
   "outputs": [
    {
     "data": {
      "text/plain": [
       "<Axes: xlabel='num_lectures'>"
      ]
     },
     "execution_count": 16,
     "metadata": {},
     "output_type": "execute_result"
    },
    {
     "data": {
      "image/png": "[encoded data removed]",
      "text/plain": [
       "<Figure size 640x480 with 1 Axes>"
      ]
     },
     "metadata": {},
     "output_type": "display_data"
    }
   ],
   "source": [
    "# boxplot after removal of outliers\n",
    "sns.boxplot(df, x=df.num_lectures)"
   ]
  },
  {
   "cell_type": "markdown",
   "id": "d64ae087",
   "metadata": {},
   "source": [
    "### Analysis of Content duration"
   ]
  },
  {
   "cell_type": "code",
   "execution_count": 17,
   "id": "3c175ee9",
   "metadata": {},
   "outputs": [],
   "source": [
    "#lets copy the dataframe in order to safeguard the actions auntil now\n",
    "df1 = df.copy()"
   ]
  },
  {
   "cell_type": "code",
   "execution_count": 18,
   "id": "e7c0ce17",
   "metadata": {},
   "outputs": [
    {
     "data": {
      "text/plain": [
       "<Axes: xlabel='content_duration'>"
      ]
     },
     "execution_count": 18,
     "metadata": {},
     "output_type": "execute_result"
    },
    {
     "data": {
      "image/png": "[encoded data removed]",
      "text/plain": [
       "<Figure size 640x480 with 1 Axes>"
      ]
     },
     "metadata": {},
     "output_type": "display_data"
    }
   ],
   "source": [
    "sns.boxplot(df, x=df1.content_duration)"
   ]
  },
  {
   "cell_type": "code",
   "execution_count": 19,
   "id": "9c4e7046",
   "metadata": {},
   "outputs": [],
   "source": [
    "df1 = df1[df1['content_duration'] < df1['content_duration'].quantile(0.997)]"
   ]
  },
  {
   "cell_type": "code",
   "execution_count": 20,
   "id": "7af26d43",
   "metadata": {},
   "outputs": [
    {
     "data": {
      "text/html": [
       "<div>\n",
       "<style scoped>\n",
       "    .dataframe tbody tr th:only-of-type {\n",
       "        vertical-align: middle;\n",
       "    }\n",
       "\n",
       "    .dataframe tbody tr th {\n",
       "        vertical-align: top;\n",
       "    }\n",
       "\n",
       "    .dataframe thead th {\n",
       "        text-align: right;\n",
       "    }\n",
       "</style>\n",
       "<table border=\"1\" class=\"dataframe\">\n",
       "  <thead>\n",
       "    <tr style=\"text-align: right;\">\n",
       "      <th></th>\n",
       "      <th>count</th>\n",
       "      <th>mean</th>\n",
       "      <th>std</th>\n",
       "      <th>min</th>\n",
       "      <th>25%</th>\n",
       "      <th>50%</th>\n",
       "      <th>75%</th>\n",
       "      <th>max</th>\n",
       "    </tr>\n",
       "  </thead>\n",
       "  <tbody>\n",
       "    <tr>\n",
       "      <th>course_id</th>\n",
       "      <td>3629.0</td>\n",
       "      <td>679429.860292</td>\n",
       "      <td>342257.678363</td>\n",
       "      <td>8324.0</td>\n",
       "      <td>411986.0</td>\n",
       "      <td>691180.0</td>\n",
       "      <td>963664.0</td>\n",
       "      <td>1282064.0</td>\n",
       "    </tr>\n",
       "    <tr>\n",
       "      <th>price</th>\n",
       "      <td>3629.0</td>\n",
       "      <td>65.392670</td>\n",
       "      <td>60.327262</td>\n",
       "      <td>0.0</td>\n",
       "      <td>20.0</td>\n",
       "      <td>45.0</td>\n",
       "      <td>95.0</td>\n",
       "      <td>200.0</td>\n",
       "    </tr>\n",
       "    <tr>\n",
       "      <th>num_subscribers</th>\n",
       "      <td>3629.0</td>\n",
       "      <td>2591.693579</td>\n",
       "      <td>5294.993843</td>\n",
       "      <td>0.0</td>\n",
       "      <td>106.0</td>\n",
       "      <td>877.0</td>\n",
       "      <td>2437.0</td>\n",
       "      <td>57422.0</td>\n",
       "    </tr>\n",
       "    <tr>\n",
       "      <th>num_reviews</th>\n",
       "      <td>3629.0</td>\n",
       "      <td>97.669330</td>\n",
       "      <td>299.007408</td>\n",
       "      <td>0.0</td>\n",
       "      <td>4.0</td>\n",
       "      <td>17.0</td>\n",
       "      <td>63.0</td>\n",
       "      <td>4434.0</td>\n",
       "    </tr>\n",
       "    <tr>\n",
       "      <th>num_lectures</th>\n",
       "      <td>3629.0</td>\n",
       "      <td>37.600165</td>\n",
       "      <td>40.001684</td>\n",
       "      <td>0.0</td>\n",
       "      <td>15.0</td>\n",
       "      <td>25.0</td>\n",
       "      <td>45.0</td>\n",
       "      <td>395.0</td>\n",
       "    </tr>\n",
       "    <tr>\n",
       "      <th>content_duration</th>\n",
       "      <td>3629.0</td>\n",
       "      <td>3.739083</td>\n",
       "      <td>4.442387</td>\n",
       "      <td>0.0</td>\n",
       "      <td>1.0</td>\n",
       "      <td>2.0</td>\n",
       "      <td>4.5</td>\n",
       "      <td>42.0</td>\n",
       "    </tr>\n",
       "  </tbody>\n",
       "</table>\n",
       "</div>"
      ],
      "text/plain": [
       "                   count           mean            std     min       25%  \\\n",
       "course_id         3629.0  679429.860292  342257.678363  8324.0  411986.0   \n",
       "price             3629.0      65.392670      60.327262     0.0      20.0   \n",
       "num_subscribers   3629.0    2591.693579    5294.993843     0.0     106.0   \n",
       "num_reviews       3629.0      97.669330     299.007408     0.0       4.0   \n",
       "num_lectures      3629.0      37.600165      40.001684     0.0      15.0   \n",
       "content_duration  3629.0       3.739083       4.442387     0.0       1.0   \n",
       "\n",
       "                       50%       75%        max  \n",
       "course_id         691180.0  963664.0  1282064.0  \n",
       "price                 45.0      95.0      200.0  \n",
       "num_subscribers      877.0    2437.0    57422.0  \n",
       "num_reviews           17.0      63.0     4434.0  \n",
       "num_lectures          25.0      45.0      395.0  \n",
       "content_duration       2.0       4.5       42.0  "
      ]
     },
     "execution_count": 20,
     "metadata": {},
     "output_type": "execute_result"
    }
   ],
   "source": [
    "df1.describe().T"
   ]
  },
  {
   "cell_type": "code",
   "execution_count": 21,
   "id": "3bcf1f4c",
   "metadata": {},
   "outputs": [
    {
     "data": {
      "text/plain": [
       "<Axes: xlabel='content_duration'>"
      ]
     },
     "execution_count": 21,
     "metadata": {},
     "output_type": "execute_result"
    },
    {
     "data": {
      "image/png": "[encoded data removed]",
      "text/plain": [
       "<Figure size 640x480 with 1 Axes>"
      ]
     },
     "metadata": {},
     "output_type": "display_data"
    }
   ],
   "source": [
    "# boxplot after removal\n",
    "sns.boxplot(df1, x=df1.content_duration)"
   ]
  },
  {
   "cell_type": "markdown",
   "id": "eab7a7bb",
   "metadata": {},
   "source": [
    "## Step 3: Cleaning Inconsistent and Invalid Data"
   ]
  },
  {
   "cell_type": "code",
   "execution_count": null,
   "id": "c620dc51",
   "metadata": {},
   "outputs": [],
   "source": [
    "# Standardizing the 'level' column\n",
    "\n",
    "# Cleaning up the 'price' column, ensuring free courses have price 0\n",
    "\n",
    "# Converting 'published_timestamp' to datetime"
   ]
  },
  {
   "cell_type": "markdown",
   "id": "3865092c",
   "metadata": {},
   "source": [
    "## Step 4: Feature Engineering"
   ]
  },
  {
   "cell_type": "code",
   "execution_count": null,
   "id": "2c8f4c52",
   "metadata": {},
   "outputs": [],
   "source": [
    "# Creating 'Revenue' column\n",
    "\n",
    "# Extracting year from 'published_timestamp'"
   ]
  },
  {
   "cell_type": "markdown",
   "id": "06b1f389",
   "metadata": {},
   "source": [
    "## Step 5: Data Visualization"
   ]
  },
  {
   "cell_type": "markdown",
   "id": "4b1796ef",
   "metadata": {},
   "source": [
    "### Course Price Distribution"
   ]
  },
  {
   "cell_type": "code",
   "execution_count": null,
   "id": "981434ae",
   "metadata": {},
   "outputs": [],
   "source": [
    "# Histogram for course price distribution\n"
   ]
  },
  {
   "cell_type": "markdown",
   "id": "957494c6",
   "metadata": {},
   "source": [
    "### Relationship Between Price and Number of Subscribers"
   ]
  },
  {
   "cell_type": "code",
   "execution_count": null,
   "id": "00b6d153",
   "metadata": {},
   "outputs": [],
   "source": [
    "# Scatter plot for price vs. number of subscribers\n"
   ]
  },
  {
   "cell_type": "markdown",
   "id": "0486e619",
   "metadata": {},
   "source": [
    "### Course Level Distribution"
   ]
  },
  {
   "cell_type": "code",
   "execution_count": null,
   "id": "cb2896e0",
   "metadata": {},
   "outputs": [],
   "source": [
    "# Bar chart for course levels\n"
   ]
  },
  {
   "cell_type": "markdown",
   "id": "7fc003ea",
   "metadata": {},
   "source": [
    "### Subject-wise Analysis"
   ]
  },
  {
   "cell_type": "code",
   "execution_count": null,
   "id": "a722ff1d",
   "metadata": {},
   "outputs": [],
   "source": [
    "# Bar chart for courses by subject\n"
   ]
  },
  {
   "cell_type": "markdown",
   "id": "a5648df5",
   "metadata": {},
   "source": [
    "### Revenue Analysis by Year"
   ]
  },
  {
   "cell_type": "code",
   "execution_count": null,
   "id": "deae3f59",
   "metadata": {},
   "outputs": [],
   "source": [
    "# Line chart for revenue by year\n"
   ]
  },
  {
   "cell_type": "markdown",
   "id": "27655f60",
   "metadata": {},
   "source": [
    "### Content Duration Analysis"
   ]
  },
  {
   "cell_type": "code",
   "execution_count": null,
   "id": "75e1696a",
   "metadata": {},
   "outputs": [],
   "source": [
    "# Boxplot for content duration by course level\n"
   ]
  },
  {
   "cell_type": "markdown",
   "id": "0f051b1e",
   "metadata": {},
   "source": [
    "### Most Popular Courses"
   ]
  },
  {
   "cell_type": "code",
   "execution_count": null,
   "id": "eec3098c",
   "metadata": {},
   "outputs": [],
   "source": [
    "# Bar chart for top 10 most popular courses by subscribers\n"
   ]
  },
  {
   "cell_type": "markdown",
   "id": "b74b635f",
   "metadata": {},
   "source": [
    "### Relationship Between Number of Lectures and Reviews"
   ]
  },
  {
   "cell_type": "code",
   "execution_count": null,
   "id": "9290be00",
   "metadata": {},
   "outputs": [],
   "source": [
    "# Scatter plot for number of lectures vs. reviews\n"
   ]
  },
  {
   "cell_type": "markdown",
   "id": "04c2ad77",
   "metadata": {},
   "source": [
    "### Paid vs Free Courses Analysis"
   ]
  },
  {
   "cell_type": "code",
   "execution_count": null,
   "id": "871a6080",
   "metadata": {},
   "outputs": [],
   "source": [
    "# Pie chart for paid vs free courses\n"
   ]
  },
  {
   "cell_type": "markdown",
   "id": "8e30b757",
   "metadata": {},
   "source": [
    "### Correlation Analysis"
   ]
  },
  {
   "cell_type": "code",
   "execution_count": null,
   "id": "eb1dafa2",
   "metadata": {},
   "outputs": [],
   "source": [
    "# Correlation heatmap\n"
   ]
  },
  {
   "cell_type": "markdown",
   "id": "11dea105",
   "metadata": {},
   "source": [
    "## Step 6: Conclusion"
   ]
  },
  {
   "cell_type": "markdown",
   "id": "2b73ad25",
   "metadata": {},
   "source": [
    "\n",
    "- Summarize the key insights from the analysis.\n",
    "- Identify trends in course pricing, popularity, and revenue.\n",
    "- Suggest potential improvements for Udemy courses based on findings.\n"
   ]
  },
  {
   "cell_type": "markdown",
   "id": "ddd43760-7e9f-43aa-bd92-530fe483843e",
   "metadata": {},
   "source": [
    "# <p style=\"background-color:green;font-family:newtimeroman;font-size:200%;color:white;text-align:center;border-radius:20px 20px;\"><b>Tebrikler!</b></p>\n",
    "![](https://www.techproeducation.com/logo/headerlogo.svg)\n",
    "\n",
    "<b>Yeniliklerden ilk siz haberdar olmak istiyorsanız lütfen bizi takip etmeyi unutmayın </b>[YouTube](https://www.youtube.com/c/techproeducation) | [Instagram](https://www.instagram.com/techproeducation) | [Facebook](https://www.facebook.com/techproeducation) | [Telegram](https://t.me/joinchat/HH2qRvA-ulh4OWbb) | [Whatsapp](https://api.whatsapp.com/send/?phone=%2B15853042959&text&type=phone_number&app_absent=0) | [LinkedIn](https://www.linkedin.com/company/techproeducation/mycompany/) |"
   ]
  }
 ],
 "metadata": {
  "kernelspec": {
   "display_name": "Python 3 (ipykernel)",
   "language": "python",
   "name": "python3"
  },
  "language_info": {
   "codemirror_mode": {
    "name": "ipython",
    "version": 3
   },
   "file_extension": ".py",
   "mimetype": "text/x-python",
   "name": "python",
   "nbconvert_exporter": "python",
   "pygments_lexer": "ipython3",
   "version": "3.12.4"
  }
 },
 "nbformat": 4,
 "nbformat_minor": 5
}
